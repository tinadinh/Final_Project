{
  "nbformat": 4,
  "nbformat_minor": 0,
  "metadata": {
    "colab": {
      "name": "Covid_19_connection_string.ipynb",
      "provenance": [],
      "collapsed_sections": []
    },
    "kernelspec": {
      "name": "python3",
      "display_name": "Python 3"
    },
    "language_info": {
      "name": "python"
    }
  },
  "cells": [
    {
      "cell_type": "code",
      "metadata": {
        "id": "BbPdoVoPM7yG"
      },
      "source": [
        "### crud.py ###\n",
        "\n",
        "from sqlalchemy import create_engine\n",
        "import psycopg2 \n",
        "from config import COVID_19_DATABASE_URI\n",
        "\n",
        "engine = create_engine(COVID_19_DATABASE_URI)"
      ],
      "execution_count": null,
      "outputs": []
    },
    {
      "cell_type": "code",
      "metadata": {
        "id": "wjzxt4peBWOz"
      },
      "source": [
        ""
      ],
      "execution_count": null,
      "outputs": []
    }
  ]
}